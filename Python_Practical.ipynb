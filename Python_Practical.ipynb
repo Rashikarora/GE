{
  "nbformat": 4,
  "nbformat_minor": 0,
  "metadata": {
    "colab": {
      "name": "Python Practical.ipynb",
      "provenance": [],
      "authorship_tag": "ABX9TyPfsM4OkFzZalQebiw7Am9S",
      "include_colab_link": true
    },
    "kernelspec": {
      "name": "python3",
      "display_name": "Python 3"
    },
    "language_info": {
      "name": "python"
    }
  },
  "cells": [
    {
      "cell_type": "markdown",
      "metadata": {
        "id": "view-in-github",
        "colab_type": "text"
      },
      "source": [
        "<a href=\"https://colab.research.google.com/github/Rashikarora/GE/blob/main/Python_Practical.ipynb\" target=\"_parent\"><img src=\"https://colab.research.google.com/assets/colab-badge.svg\" alt=\"Open In Colab\"/></a>"
      ]
    },
    {
      "cell_type": "code",
      "execution_count": null,
      "metadata": {
        "id": "brVipKil9Emf"
      },
      "outputs": [],
      "source": [
        "# Q1.\n",
        "# ARITHMETIC OPERATORS\n",
        "33.33//11\n",
        "((6+3)+2)\n",
        "(2*(3*2))\n",
        "10*-5\n",
        "50/5*6\n",
        "18%5\n",
        "52+63\n",
        "58-36\n",
        "\n",
        "#RELATIONAL OPERATORS\n",
        "25==25\n",
        "25<25\n",
        "25>25\n",
        "25<=25\n",
        "25>=25\n",
        "25!=25\n",
        "\n",
        "#LOGICAL OPERATORS\n",
        "(10<5)and(2<3)\n",
        "(10<5)or(2<3)\n",
        "not(10<5)\n",
        "\n"
      ]
    },
    {
      "cell_type": "code",
      "source": [
        "# Q2.\n",
        "# (A)\n",
        "for x in range(1,5):\n",
        "    for y in range(x,0,-1):\n",
        "        print(y,end=\" \")\n",
        "    print()\n",
        "\n",
        "# (B)\n",
        "n = int(input('Enter no of rows: '))\n",
        "for i in range(1, n+1):\n",
        "    for j in range(1, n-i+1):\n",
        "        print(end=' ')\n",
        "    for j in range (1, i+ 1):\n",
        "        print(j, end=' ')\n",
        "    for j in range (i-1, 0, -1):\n",
        "        print(j, end=' ')\n",
        "    print()\n",
        "for i in range (1,n):\n",
        "    for j in range(1, i+1):\n",
        "        print(end=' ')\n",
        "    for j in range (1, n-i):\n",
        "        print(j, end=' ')\n",
        "    for j in range (n-i, 0, -1):\n",
        "        print(j, end=' ')\n",
        "    print() "
      ],
      "metadata": {
        "colab": {
          "base_uri": "https://localhost:8080/"
        },
        "id": "whyEN-gF_APU",
        "outputId": "677de4ce-9967-418a-e827-1f6a1090c388"
      },
      "execution_count": 10,
      "outputs": [
        {
          "output_type": "stream",
          "name": "stdout",
          "text": [
            "1 \n",
            "2 1 \n",
            "3 2 1 \n",
            "4 3 2 1 \n",
            "Enter no of rows: 4\n",
            "   1 \n",
            "  1 2 1 \n",
            " 1 2 3 2 1 \n",
            "1 2 3 4 3 2 1 \n",
            " 1 2 3 2 1 \n",
            "  1 2 1 \n",
            "   1 \n"
          ]
        }
      ]
    },
    {
      "cell_type": "code",
      "source": [
        "# Q3.\n",
        "import math\n",
        "math.exp(20)\n",
        "math.pow(25,5)\n",
        "math.sqrt(2250)\n",
        "math.floor(6.325)\n",
        "math.log(25,5)\n",
        "math.ceil(5.75)\n",
        "math.fabs(-50)\n",
        "math.log10(1)\n",
        "math.cos(60)\n",
        "math.asin(1)\n",
        "math.degrees(math.pi/2)\n",
        "math.radians(360)"
      ],
      "metadata": {
        "id": "ka8XILyW_20a"
      },
      "execution_count": null,
      "outputs": []
    },
    {
      "cell_type": "code",
      "source": [
        "# Q4.\n",
        "import math\n",
        "def func():\n",
        "    print('table of sin in the range of 0-10 with increament of 0.2')\n",
        "    for x in range(0,10):\n",
        "        print(math.sin(x))\n",
        "        x=x+0.2\n",
        "    print()\n",
        "    print('table of cos')\n",
        "   \n",
        "    for x in range(0,10):\n",
        "        print(math.cos(x))\n",
        "        x=x+0.2\n",
        "    print()\n",
        "    print('table of tan')\n",
        "    \n",
        "    for x in range(0,10):\n",
        "        print(math.tan(x))\n",
        "        x=x+0.2\n",
        "    print()\n",
        "func()"
      ],
      "metadata": {
        "colab": {
          "base_uri": "https://localhost:8080/"
        },
        "id": "xVJVk2UhAAi3",
        "outputId": "99bd5fe9-b307-4697-e81d-5f6924ec5471"
      },
      "execution_count": 12,
      "outputs": [
        {
          "output_type": "stream",
          "name": "stdout",
          "text": [
            "table of sin in the range of 0-10 with increament of 0.2\n",
            "0.0\n",
            "0.8414709848078965\n",
            "0.9092974268256817\n",
            "0.1411200080598672\n",
            "-0.7568024953079282\n",
            "-0.9589242746631385\n",
            "-0.27941549819892586\n",
            "0.6569865987187891\n",
            "0.9893582466233818\n",
            "0.4121184852417566\n",
            "\n",
            "table of cos\n",
            "1.0\n",
            "0.5403023058681398\n",
            "-0.4161468365471424\n",
            "-0.9899924966004454\n",
            "-0.6536436208636119\n",
            "0.28366218546322625\n",
            "0.960170286650366\n",
            "0.7539022543433046\n",
            "-0.14550003380861354\n",
            "-0.9111302618846769\n",
            "\n",
            "table of tan\n",
            "0.0\n",
            "1.5574077246549023\n",
            "-2.185039863261519\n",
            "-0.1425465430742778\n",
            "1.1578212823495775\n",
            "-3.380515006246586\n",
            "-0.29100619138474915\n",
            "0.8714479827243188\n",
            "-6.799711455220379\n",
            "-0.45231565944180985\n",
            "\n"
          ]
        }
      ]
    },
    {
      "cell_type": "code",
      "source": [
        "# Q5.\n",
        "def main():\n",
        "    year=int(input('\\nenter year to check it is leap year or not'))\n",
        "    if (year%4)==0:\n",
        "       if (year%100)==0:\n",
        "          if (year%400)==0:\n",
        "           print('*\\nIT IS A LEAP YEAR*')\n",
        "          else:\n",
        "              print('*\\nIT IA NOT A LEAP YEAR*')\n",
        "       else:\n",
        "          print('*\\nIT IS NOT LEAP YEAR*')\n",
        "    else:\n",
        "        print('*\\nIT IS NOT A LEAP YEAR*')\n",
        "if __name__=='__main__':\n",
        "    main()"
      ],
      "metadata": {
        "colab": {
          "base_uri": "https://localhost:8080/"
        },
        "id": "xN_r_enNANvE",
        "outputId": "ebced9de-ead3-4dbb-f3c2-e96cce375449"
      },
      "execution_count": 13,
      "outputs": [
        {
          "output_type": "stream",
          "name": "stdout",
          "text": [
            "\n",
            "enter year to check it is leap year or not2018\n",
            "*\n",
            "IT IS NOT A LEAP YEAR*\n"
          ]
        }
      ]
    },
    {
      "cell_type": "code",
      "source": [
        "# Q6.\n",
        "def main():\n",
        "    choice = int(input('Enter 7 to calculate area of building'))\n",
        "    if choice == 7:\n",
        "        length = float(input('Enter length of building :'))\n",
        "        breadth = float(input('Enter breadth of building :'))\n",
        "        area_building = length * breadth\n",
        "        print(' Area of building is =', area_building)\n",
        "    else:\n",
        "        print('Invalid choice')\n",
        "if __name__=='__main__':\n",
        "    main()\n",
        "\n",
        "    "
      ],
      "metadata": {
        "colab": {
          "base_uri": "https://localhost:8080/"
        },
        "id": "v8YbCK7iAVpi",
        "outputId": "24b80d5b-d6d4-4b98-f205-c76cbd202e16"
      },
      "execution_count": 19,
      "outputs": [
        {
          "output_type": "stream",
          "name": "stdout",
          "text": [
            "Enter 7 to calculate area of building7\n",
            "Enter length of building :6\n",
            "Enter breadth of building :5\n",
            " Area of building is = 30.0\n"
          ]
        }
      ]
    },
    {
      "cell_type": "code",
      "source": [
        "# Q7.\n",
        "num=int(input(\"Enter any number: \"))\n",
        "factorial=1\n",
        "if num < 0 :\n",
        "    print(\"Factorial doesn't exists for negative numbers.\")\n",
        "elif num==0 :\n",
        "    print(\"Factorial of 0 is 1.\")\n",
        "else :\n",
        "    for i in range(1,num+1):\n",
        "        factorial = factorial*i\n",
        "print(\"The factorial of num is\", factorial)"
      ],
      "metadata": {
        "colab": {
          "base_uri": "https://localhost:8080/"
        },
        "id": "ew1bDhClBvr6",
        "outputId": "07fe1de6-63c0-4783-cf56-2498ad440210"
      },
      "execution_count": 20,
      "outputs": [
        {
          "output_type": "stream",
          "name": "stdout",
          "text": [
            "Enter any number: 7\n",
            "The factorial of num is 5040\n"
          ]
        }
      ]
    },
    {
      "cell_type": "code",
      "source": [
        "# Q8.\n",
        "def main():\n",
        "  n=int(input('enter no.:'))\n",
        "  x=0\n",
        "  y=1\n",
        "  z=0\n",
        "  while(z<=n):\n",
        "    print(z)\n",
        "    x=y\n",
        "    y=z\n",
        "    z=x+y\n",
        "if __name__=='__main__':\n",
        "    main()\n",
        "\n",
        "\n",
        "\n",
        "    "
      ],
      "metadata": {
        "colab": {
          "base_uri": "https://localhost:8080/"
        },
        "id": "dHOCohqbB7t6",
        "outputId": "0b0739ec-5fb6-401d-a579-47f1f608c111"
      },
      "execution_count": 24,
      "outputs": [
        {
          "output_type": "stream",
          "name": "stdout",
          "text": [
            "enter no.:4\n",
            "0\n",
            "1\n",
            "1\n",
            "2\n",
            "3\n"
          ]
        }
      ]
    },
    {
      "cell_type": "code",
      "source": [
        "# Q9.\n",
        "def reverse():\n",
        "    rev = 0\n",
        "    number=int(input(\"Enter a number: \"))\n",
        "    while number > 0 :\n",
        "        rev = (rev*10)+ number%10\n",
        "        number = number//10\n",
        "    print(\"Reverse=\", rev)\n",
        "reverse()\n",
        "\n",
        "def sum():\n",
        "    number = int(input(\"Enter a number: \"))\n",
        "    sum = 0\n",
        "    while number > 0:\n",
        "        a = number % 10\n",
        "        sum =sum + a\n",
        "        number = number//10\n",
        "    print(\"sum =\",sum)\n",
        "sum()"
      ],
      "metadata": {
        "colab": {
          "base_uri": "https://localhost:8080/"
        },
        "id": "XbfnbwbACYrE",
        "outputId": "783bbc9b-c9df-4682-9b50-a6712370f689"
      },
      "execution_count": 26,
      "outputs": [
        {
          "output_type": "stream",
          "name": "stdout",
          "text": [
            "Enter a number: 17\n",
            "Reverse= 71\n",
            "Enter a number: 62\n",
            "sum = 8\n"
          ]
        }
      ]
    },
    {
      "cell_type": "code",
      "source": [
        "# Q10.\n",
        "def lcm(x,y):\n",
        "    if x > y :\n",
        "        greater = x \n",
        "    else : \n",
        "        greater = y\n",
        "    value = greater\n",
        "    while True:\n",
        "        if greater % x ==0 and greater % y == 0 :\n",
        "            print(f\"The LCM of x and y is {greater}\")\n",
        "            break\n",
        "        else:\n",
        "            greater = greater + value\n",
        "\n",
        "\n",
        "    \n",
        "x = int(input(\"Enter the first number: \"))\n",
        "y = int(input(\"Enter the second number: \"))\n",
        "lcm(x,y)"
      ],
      "metadata": {
        "colab": {
          "base_uri": "https://localhost:8080/"
        },
        "id": "gRSJ9ucBCyHy",
        "outputId": "06c59c57-f22e-4bed-b7ef-5bc1c7f86a12"
      },
      "execution_count": 27,
      "outputs": [
        {
          "output_type": "stream",
          "name": "stdout",
          "text": [
            "Enter the first number: 21\n",
            "Enter the second number: 35\n",
            "The LCM of x and y is 105\n"
          ]
        }
      ]
    },
    {
      "cell_type": "code",
      "source": [
        "# Q11.\n",
        "def prime(n):\n",
        "    if n==1:\n",
        "        return False\n",
        "    for i in range(2,n):\n",
        "        if n%i==0:\n",
        "            return False\n",
        "            break\n",
        "    else:\n",
        "        return True\n",
        "    return prime(n)\n",
        "def main():\n",
        "    n=int(input('enter no.:'))\n",
        "    result=prime(n)\n",
        "    if result==True:\n",
        "        print(n,'is a prime no.')\n",
        "    else:\n",
        "        print(n,'is not a prime no.')\n",
        "if __name__=='__main__':\n",
        "    main()"
      ],
      "metadata": {
        "colab": {
          "base_uri": "https://localhost:8080/"
        },
        "id": "6N7IKcpUC8TP",
        "outputId": "43bdde7e-1cdb-4f43-cfb7-cad831d3b2f1"
      },
      "execution_count": 30,
      "outputs": [
        {
          "output_type": "stream",
          "name": "stdout",
          "text": [
            "enter no.:9\n",
            "9 is not a prime no.\n"
          ]
        }
      ]
    },
    {
      "cell_type": "code",
      "source": [
        "# Q12.\n",
        "# (A)\n",
        "def oddSum(n) :\n",
        "    sum = 0\n",
        "    curr = 1\n",
        "    i = 0\n",
        "    while i < n:\n",
        "        sum = sum + curr\n",
        "        curr = curr + 2\n",
        "        i = i + 1\n",
        "    return sum\n",
        " \n",
        "# Driver Code\n",
        "n = 20\n",
        "print (\" Sum of first\" , n, \"Odd Numbers is: \",\n",
        "                                oddSum(n) )\n",
        "\n",
        " "
      ],
      "metadata": {
        "colab": {
          "base_uri": "https://localhost:8080/"
        },
        "id": "mDAqLF0aDQD3",
        "outputId": "43debe55-7dd4-43e6-d107-05c98b3410c1"
      },
      "execution_count": 39,
      "outputs": [
        {
          "output_type": "stream",
          "name": "stdout",
          "text": [
            " Sum of first 20 Odd Numbers is:  400\n"
          ]
        }
      ]
    },
    {
      "cell_type": "code",
      "source": [
        "# (B)\n",
        "def evensum(n):\n",
        "    curr = 2\n",
        "    sum = 0\n",
        "    i = 1\n",
        "     \n",
        "    # sum of first n even numbers\n",
        "    while i <= n:\n",
        "        sum += curr\n",
        "         \n",
        "        # next even number\n",
        "        curr += 2\n",
        "        i = i + 1\n",
        "    return sum\n",
        " \n",
        "# Driver Code\n",
        "n = 20\n",
        "print(\"sum of first \", n, \"even number is: \",\n",
        "      evensum(n))"
      ],
      "metadata": {
        "colab": {
          "base_uri": "https://localhost:8080/"
        },
        "id": "ufRLVHBxFGoP",
        "outputId": "f0af23db-a06e-494c-9074-85c0084c8db2"
      },
      "execution_count": 40,
      "outputs": [
        {
          "output_type": "stream",
          "name": "stdout",
          "text": [
            "sum of first  20 even number is:  420\n"
          ]
        }
      ]
    },
    {
      "cell_type": "code",
      "source": [
        "# (C)\n",
        "num = int(input(\"Enter a number: \"))\n",
        "\n",
        "if num < 0:\n",
        "    print(\"Enter a positive number\")\n",
        "else:\n",
        "    sum = 0\n",
        "    while(num > 0):\n",
        "        sum += num\n",
        "        num -= 1\n",
        "        print(\"The sum is\",sum)"
      ],
      "metadata": {
        "colab": {
          "base_uri": "https://localhost:8080/"
        },
        "id": "Lufy4RoXFNpK",
        "outputId": "a1bbabe9-02f2-4381-ea9a-de8d34d0f5cd"
      },
      "execution_count": 41,
      "outputs": [
        {
          "output_type": "stream",
          "name": "stdout",
          "text": [
            "Enter a number: 4\n",
            "The sum is 4\n",
            "The sum is 7\n",
            "The sum is 9\n",
            "The sum is 10\n"
          ]
        }
      ]
    },
    {
      "cell_type": "code",
      "source": [
        "# Q13.\n",
        "def main():\n",
        "    a=input('enter a string:')\n",
        "    b=a[-1::-1]\n",
        "    if(a==b):\n",
        "        print('palindrome string')\n",
        "    else:\n",
        "        print('not palindrome')\n",
        "if __name__=='__main__':\n",
        "    main()"
      ],
      "metadata": {
        "colab": {
          "base_uri": "https://localhost:8080/"
        },
        "id": "iKLb3EuxFi7X",
        "outputId": "80df5806-8fc2-41c9-c60f-4aa0678a898a"
      },
      "execution_count": 42,
      "outputs": [
        {
          "output_type": "stream",
          "name": "stdout",
          "text": [
            "enter a string:HELLO WORLD\n",
            "not palindrome\n"
          ]
        }
      ]
    },
    {
      "cell_type": "code",
      "source": [
        "# Q14.\n",
        "def main():\n",
        "    text = input('Enter a sentence:')\n",
        "    freq = {}\n",
        "    for i in text:\n",
        "        if i in freq:\n",
        "            freq[i] += 1\n",
        "        else:\n",
        "            freq[i] = 1\n",
        "    print(\"Frequency of each letter are as follows:\", freq)\n",
        "if __name__=='__main__':\n",
        "    main()"
      ],
      "metadata": {
        "colab": {
          "base_uri": "https://localhost:8080/"
        },
        "id": "GjdvkLa1FyM6",
        "outputId": "7e4e09d9-82c4-4ec5-fa55-ae171403613d"
      },
      "execution_count": 43,
      "outputs": [
        {
          "output_type": "stream",
          "name": "stdout",
          "text": [
            "Enter a sentence:I am Rashika\n",
            "Frequency of each letter are as follows: {'I': 1, ' ': 2, 'a': 3, 'm': 1, 'R': 1, 's': 1, 'h': 1, 'i': 1, 'k': 1}\n"
          ]
        }
      ]
    },
    {
      "cell_type": "code",
      "source": [
        "# Q15.\n",
        "d = dict()\n",
        "for x in range(1,5+1):\n",
        "    d[x]=x**3\n",
        "print(d)"
      ],
      "metadata": {
        "colab": {
          "base_uri": "https://localhost:8080/"
        },
        "id": "OoEOeaWqGFwE",
        "outputId": "1bfceb03-213e-4e60-ffda-0425bd1f2b53"
      },
      "execution_count": 44,
      "outputs": [
        {
          "output_type": "stream",
          "name": "stdout",
          "text": [
            "{1: 1, 2: 8, 3: 27, 4: 64, 5: 125}\n"
          ]
        }
      ]
    },
    {
      "cell_type": "code",
      "source": [
        "# Q16.\n",
        "# (A)\n",
        "t1=(1,2,3,4,5,6,7,8,9,10)\n",
        "t1a=t1[:5]\n",
        "t1b=t1[5:]\n",
        "print(t1a)\n",
        "print(t1b)\n",
        "print()"
      ],
      "metadata": {
        "colab": {
          "base_uri": "https://localhost:8080/"
        },
        "id": "_lYKu0GjGQDO",
        "outputId": "83718ade-0ce1-440c-94f5-6eac8a02e96b"
      },
      "execution_count": 45,
      "outputs": [
        {
          "output_type": "stream",
          "name": "stdout",
          "text": [
            "(1, 2, 3, 4, 5)\n",
            "(6, 7, 8, 9, 10)\n",
            "\n"
          ]
        }
      ]
    },
    {
      "cell_type": "code",
      "source": [
        "# (B)\n",
        "t1=(1,2,3,4,5,6,7,8,9,10)\n",
        "n=list(t1)\n",
        "list1=list()\n",
        "for i in n:\n",
        "    if i in n:\n",
        "        if i%2==0:\n",
        "            list1.append(i)\n",
        "    p=tuple(list1)\n",
        "print('tuple:',p)\n",
        "print()"
      ],
      "metadata": {
        "colab": {
          "base_uri": "https://localhost:8080/"
        },
        "id": "m7MexxDSGa2S",
        "outputId": "9f896ecc-1749-440d-87b2-47b5f697ecd7"
      },
      "execution_count": 46,
      "outputs": [
        {
          "output_type": "stream",
          "name": "stdout",
          "text": [
            "tuple: (2, 4, 6, 8, 10)\n",
            "\n"
          ]
        }
      ]
    },
    {
      "cell_type": "code",
      "source": [
        "# (C)\n",
        "t1=(1,2,3,4,5,6,7,8,9,10)\n",
        "t2=(11,13,15)\n",
        "a=list(t1)\n",
        "b=list(t2)\n",
        "c=(a+b)\n",
        "print(c)"
      ],
      "metadata": {
        "colab": {
          "base_uri": "https://localhost:8080/"
        },
        "id": "TgcBPH62GiLk",
        "outputId": "c4a216ca-0aaf-4215-f1bd-d16080ec824a"
      },
      "execution_count": 47,
      "outputs": [
        {
          "output_type": "stream",
          "name": "stdout",
          "text": [
            "[1, 2, 3, 4, 5, 6, 7, 8, 9, 10, 11, 13, 15]\n"
          ]
        }
      ]
    },
    {
      "cell_type": "code",
      "source": [
        "# (D)\n",
        "t1=(1,2,3,4,5,6,7,8,9,10)\n",
        "max(t1)\n",
        "min(t2)\n",
        "print('max no. is',max(t1))\n",
        "print('min no. is',min(t1))\n"
      ],
      "metadata": {
        "colab": {
          "base_uri": "https://localhost:8080/"
        },
        "id": "TEW-tCpdGn2x",
        "outputId": "d0dc7294-ac3a-4bef-c4d7-5eec39e6c6d4"
      },
      "execution_count": 48,
      "outputs": [
        {
          "output_type": "stream",
          "name": "stdout",
          "text": [
            "max no. is 10\n",
            "min no. is 1\n"
          ]
        }
      ]
    },
    {
      "cell_type": "code",
      "source": [
        "# Q17.\n",
        "def check_duplicates():\n",
        "    l=[]\n",
        "    l2=[]\n",
        "    n = int(input(\"Enter the number of elements you would wish to add to the list :\"))\n",
        "    for i in range (n) :\n",
        "        x = int(input(\"Enter element: \"))\n",
        "        l.append(x)\n",
        "    print(\"Your entered list is :\",l)\n",
        "    for i in range (n):\n",
        "        if l[i] not in l2:\n",
        "            l2.append(i)\n",
        "        else:\n",
        "            print(\"Element repeated is:\",i)\n",
        "\n",
        "check_duplicates()"
      ],
      "metadata": {
        "colab": {
          "base_uri": "https://localhost:8080/"
        },
        "id": "SuP3emXWGw-C",
        "outputId": "3ba82bf5-39b3-4f2a-ae35-7d18bd0d17ce"
      },
      "execution_count": 50,
      "outputs": [
        {
          "output_type": "stream",
          "name": "stdout",
          "text": [
            "Enter the number of elements you would wish to add to the list :3\n",
            "Enter element: 22\n",
            "Enter element: 21\n",
            "Enter element: 22\n",
            "Your entered list is : [22, 21, 22]\n"
          ]
        }
      ]
    },
    {
      "cell_type": "code",
      "source": [
        "# Q18.\n",
        "class rectangle():\n",
        "    def __init__(self,l,b):\n",
        "        self.l=l\n",
        "        self.b=b\n",
        "    def area(self):\n",
        "        return self.l*self.b\n",
        "    def perimeter(self):\n",
        "        print('destructor call!!')\n",
        "x=int(input('enter length:'))\n",
        "y=int(input('enter breadth:'))\n",
        "a=rectangle(x,y)\n",
        "print('area of rectangle is:',a.area())\n",
        "print('perimeter of rectangle is:',a.perimeter())"
      ],
      "metadata": {
        "colab": {
          "base_uri": "https://localhost:8080/"
        },
        "id": "CNSDnkL2HNtw",
        "outputId": "dc37610c-5be8-46fa-b85f-e1e8948a8cbb"
      },
      "execution_count": 51,
      "outputs": [
        {
          "output_type": "stream",
          "name": "stdout",
          "text": [
            "enter length:6\n",
            "enter breadth:5\n",
            "area of rectangle is: 30\n",
            "destructor call!!\n",
            "perimeter of rectangle is: None\n"
          ]
        }
      ]
    },
    {
      "cell_type": "code",
      "source": [
        "# Q19.\n",
        "# (A)\n",
        "str = input(\"Enter a string: \")\n",
        "\n",
        "# counter variable to count the character in a string\n",
        "counter = 0\n",
        "for s in str:\n",
        "      counter = counter+1\n",
        "print(\"Length of the input string is:\", counter)\n",
        "# (B)\n",
        "def max(str):\n",
        "    string = str\n",
        "    for s in string:\n",
        "      sa = string.split()\n",
        "      print(max(s))\n",
        "# (C)\n",
        "def changer():\n",
        "    ch=[]\n",
        "    for i in 'Hello World':\n",
        "        ch.append(i)\n",
        "    for j in range(1,len(ch),2):\n",
        "        ch[j]= '#'\n",
        "    s=''\n",
        "    for k in ch:\n",
        "        s=s+k\n",
        "    print(s)\n",
        "changer()\n",
        "# (D)\n",
        "a_string = \"one two three\"\n",
        "word_list = a_string.split()\n",
        "number_of_words = len(word_list)\n",
        "print(number_of_words)"
      ],
      "metadata": {
        "colab": {
          "base_uri": "https://localhost:8080/"
        },
        "id": "J6PIMcqwHZKh",
        "outputId": "c7634337-e118-499e-abcb-3d5cd63dbb5d"
      },
      "execution_count": 59,
      "outputs": [
        {
          "output_type": "stream",
          "name": "stdout",
          "text": [
            "Enter a string: HELLOZ\n",
            "Length of the input string is: 6\n",
            "H#l#o#W#r#d\n",
            "3\n"
          ]
        }
      ]
    },
    {
      "cell_type": "code",
      "source": [
        "# Q20.\n",
        "def inList():                                                                                                                                                                                                    \n",
        "    num = input(\"Enter input :   \").split()\n",
        "    n = list(num)\n",
        "    for i in n:\n",
        "        if not i.isdigit():\n",
        "            print('not no.')\n",
        "            break\n",
        "        else:\n",
        "            print('all are number')\n",
        "            r = list(map (int,input('Enter input again :  ').split()))\n",
        "            oddNo = 0\n",
        "            for i in r:\n",
        "                if (i % 2) != 0:\n",
        "                    oddNo += 1\n",
        "            print('Total odd no in the list is:', oddNo)\n",
        "            break\n",
        "    for i in n:\n",
        "        if i.isalpha():\n",
        "            print('The largest string is:   ', max(n))\n",
        "# for reversing the input string\n",
        "            h = n[-1::-1]\n",
        "            print(\"The reverse of input list is  \",h)\n",
        "# to find if the entered element is present in the input string\n",
        "            found=input('Enter the element:  ')\n",
        "            def findEle():\n",
        "                for i in num:\n",
        "                    if i == found:\n",
        "                        print('Element found')\n",
        "                        break\n",
        "            findEle()\n",
        "# to remove an element from the input string\n",
        "            def delEle():\n",
        "                k = found\n",
        "                str = []\n",
        "                for i in num:\n",
        "                    if i != k:\n",
        "                        str.append(i)\n",
        "                print ('Element',k,'\" Deleted ')\n",
        "# to print updated list\n",
        "                print('Updated list',str)\n",
        "            delEle()\n",
        "            break\n",
        "inList()\n"
      ],
      "metadata": {
        "colab": {
          "base_uri": "https://localhost:8080/",
          "height": 512
        },
        "id": "T5pmWCWKJ_CL",
        "outputId": "ee4339ce-028d-4173-8ddd-7072c4ae2bae"
      },
      "execution_count": 63,
      "outputs": [
        {
          "output_type": "error",
          "ename": "KeyboardInterrupt",
          "evalue": "ignored",
          "traceback": [
            "\u001b[0;31m---------------------------------------------------------------------------\u001b[0m",
            "\u001b[0;31mKeyboardInterrupt\u001b[0m                         Traceback (most recent call last)",
            "\u001b[0;32m/usr/local/lib/python3.7/dist-packages/ipykernel/kernelbase.py\u001b[0m in \u001b[0;36m_input_request\u001b[0;34m(self, prompt, ident, parent, password)\u001b[0m\n\u001b[1;32m    728\u001b[0m             \u001b[0;32mtry\u001b[0m\u001b[0;34m:\u001b[0m\u001b[0;34m\u001b[0m\u001b[0;34m\u001b[0m\u001b[0m\n\u001b[0;32m--> 729\u001b[0;31m                 \u001b[0mident\u001b[0m\u001b[0;34m,\u001b[0m \u001b[0mreply\u001b[0m \u001b[0;34m=\u001b[0m \u001b[0mself\u001b[0m\u001b[0;34m.\u001b[0m\u001b[0msession\u001b[0m\u001b[0;34m.\u001b[0m\u001b[0mrecv\u001b[0m\u001b[0;34m(\u001b[0m\u001b[0mself\u001b[0m\u001b[0;34m.\u001b[0m\u001b[0mstdin_socket\u001b[0m\u001b[0;34m,\u001b[0m \u001b[0;36m0\u001b[0m\u001b[0;34m)\u001b[0m\u001b[0;34m\u001b[0m\u001b[0;34m\u001b[0m\u001b[0m\n\u001b[0m\u001b[1;32m    730\u001b[0m             \u001b[0;32mexcept\u001b[0m \u001b[0mException\u001b[0m\u001b[0;34m:\u001b[0m\u001b[0;34m\u001b[0m\u001b[0;34m\u001b[0m\u001b[0m\n",
            "\u001b[0;32m/usr/local/lib/python3.7/dist-packages/jupyter_client/session.py\u001b[0m in \u001b[0;36mrecv\u001b[0;34m(self, socket, mode, content, copy)\u001b[0m\n\u001b[1;32m    802\u001b[0m         \u001b[0;32mtry\u001b[0m\u001b[0;34m:\u001b[0m\u001b[0;34m\u001b[0m\u001b[0;34m\u001b[0m\u001b[0m\n\u001b[0;32m--> 803\u001b[0;31m             \u001b[0mmsg_list\u001b[0m \u001b[0;34m=\u001b[0m \u001b[0msocket\u001b[0m\u001b[0;34m.\u001b[0m\u001b[0mrecv_multipart\u001b[0m\u001b[0;34m(\u001b[0m\u001b[0mmode\u001b[0m\u001b[0;34m,\u001b[0m \u001b[0mcopy\u001b[0m\u001b[0;34m=\u001b[0m\u001b[0mcopy\u001b[0m\u001b[0;34m)\u001b[0m\u001b[0;34m\u001b[0m\u001b[0;34m\u001b[0m\u001b[0m\n\u001b[0m\u001b[1;32m    804\u001b[0m         \u001b[0;32mexcept\u001b[0m \u001b[0mzmq\u001b[0m\u001b[0;34m.\u001b[0m\u001b[0mZMQError\u001b[0m \u001b[0;32mas\u001b[0m \u001b[0me\u001b[0m\u001b[0;34m:\u001b[0m\u001b[0;34m\u001b[0m\u001b[0;34m\u001b[0m\u001b[0m\n",
            "\u001b[0;32m/usr/local/lib/python3.7/dist-packages/zmq/sugar/socket.py\u001b[0m in \u001b[0;36mrecv_multipart\u001b[0;34m(self, flags, copy, track)\u001b[0m\n\u001b[1;32m    624\u001b[0m         \"\"\"\n\u001b[0;32m--> 625\u001b[0;31m         \u001b[0mparts\u001b[0m \u001b[0;34m=\u001b[0m \u001b[0;34m[\u001b[0m\u001b[0mself\u001b[0m\u001b[0;34m.\u001b[0m\u001b[0mrecv\u001b[0m\u001b[0;34m(\u001b[0m\u001b[0mflags\u001b[0m\u001b[0;34m,\u001b[0m \u001b[0mcopy\u001b[0m\u001b[0;34m=\u001b[0m\u001b[0mcopy\u001b[0m\u001b[0;34m,\u001b[0m \u001b[0mtrack\u001b[0m\u001b[0;34m=\u001b[0m\u001b[0mtrack\u001b[0m\u001b[0;34m)\u001b[0m\u001b[0;34m]\u001b[0m\u001b[0;34m\u001b[0m\u001b[0;34m\u001b[0m\u001b[0m\n\u001b[0m\u001b[1;32m    626\u001b[0m         \u001b[0;31m# have first part already, only loop while more to receive\u001b[0m\u001b[0;34m\u001b[0m\u001b[0;34m\u001b[0m\u001b[0;34m\u001b[0m\u001b[0m\n",
            "\u001b[0;32mzmq/backend/cython/socket.pyx\u001b[0m in \u001b[0;36mzmq.backend.cython.socket.Socket.recv\u001b[0;34m()\u001b[0m\n",
            "\u001b[0;32mzmq/backend/cython/socket.pyx\u001b[0m in \u001b[0;36mzmq.backend.cython.socket.Socket.recv\u001b[0;34m()\u001b[0m\n",
            "\u001b[0;32mzmq/backend/cython/socket.pyx\u001b[0m in \u001b[0;36mzmq.backend.cython.socket._recv_copy\u001b[0;34m()\u001b[0m\n",
            "\u001b[0;32m/usr/local/lib/python3.7/dist-packages/zmq/backend/cython/checkrc.pxd\u001b[0m in \u001b[0;36mzmq.backend.cython.checkrc._check_rc\u001b[0;34m()\u001b[0m\n",
            "\u001b[0;31mKeyboardInterrupt\u001b[0m: ",
            "\nDuring handling of the above exception, another exception occurred:\n",
            "\u001b[0;31mKeyboardInterrupt\u001b[0m                         Traceback (most recent call last)",
            "\u001b[0;32m<ipython-input-63-6074ffaf7eea>\u001b[0m in \u001b[0;36m<module>\u001b[0;34m()\u001b[0m\n\u001b[1;32m     42\u001b[0m             \u001b[0mdelEle\u001b[0m\u001b[0;34m(\u001b[0m\u001b[0;34m)\u001b[0m\u001b[0;34m\u001b[0m\u001b[0;34m\u001b[0m\u001b[0m\n\u001b[1;32m     43\u001b[0m             \u001b[0;32mbreak\u001b[0m\u001b[0;34m\u001b[0m\u001b[0;34m\u001b[0m\u001b[0m\n\u001b[0;32m---> 44\u001b[0;31m \u001b[0minList\u001b[0m\u001b[0;34m(\u001b[0m\u001b[0;34m)\u001b[0m\u001b[0;34m\u001b[0m\u001b[0;34m\u001b[0m\u001b[0m\n\u001b[0m",
            "\u001b[0;32m<ipython-input-63-6074ffaf7eea>\u001b[0m in \u001b[0;36minList\u001b[0;34m()\u001b[0m\n\u001b[1;32m      1\u001b[0m \u001b[0;31m# Q20.\u001b[0m\u001b[0;34m\u001b[0m\u001b[0;34m\u001b[0m\u001b[0;34m\u001b[0m\u001b[0m\n\u001b[1;32m      2\u001b[0m \u001b[0;32mdef\u001b[0m \u001b[0minList\u001b[0m\u001b[0;34m(\u001b[0m\u001b[0;34m)\u001b[0m\u001b[0;34m:\u001b[0m\u001b[0;34m\u001b[0m\u001b[0;34m\u001b[0m\u001b[0m\n\u001b[0;32m----> 3\u001b[0;31m     \u001b[0mnum\u001b[0m \u001b[0;34m=\u001b[0m \u001b[0minput\u001b[0m\u001b[0;34m(\u001b[0m\u001b[0;34m\"Enter input :   \"\u001b[0m\u001b[0;34m)\u001b[0m\u001b[0;34m.\u001b[0m\u001b[0msplit\u001b[0m\u001b[0;34m(\u001b[0m\u001b[0;34m)\u001b[0m\u001b[0;34m\u001b[0m\u001b[0;34m\u001b[0m\u001b[0m\n\u001b[0m\u001b[1;32m      4\u001b[0m     \u001b[0mn\u001b[0m \u001b[0;34m=\u001b[0m \u001b[0mlist\u001b[0m\u001b[0;34m(\u001b[0m\u001b[0mnum\u001b[0m\u001b[0;34m)\u001b[0m\u001b[0;34m\u001b[0m\u001b[0;34m\u001b[0m\u001b[0m\n\u001b[1;32m      5\u001b[0m     \u001b[0;32mfor\u001b[0m \u001b[0mi\u001b[0m \u001b[0;32min\u001b[0m \u001b[0mn\u001b[0m\u001b[0;34m:\u001b[0m\u001b[0;34m\u001b[0m\u001b[0;34m\u001b[0m\u001b[0m\n",
            "\u001b[0;32m/usr/local/lib/python3.7/dist-packages/ipykernel/kernelbase.py\u001b[0m in \u001b[0;36mraw_input\u001b[0;34m(self, prompt)\u001b[0m\n\u001b[1;32m    702\u001b[0m             \u001b[0mself\u001b[0m\u001b[0;34m.\u001b[0m\u001b[0m_parent_ident\u001b[0m\u001b[0;34m,\u001b[0m\u001b[0;34m\u001b[0m\u001b[0;34m\u001b[0m\u001b[0m\n\u001b[1;32m    703\u001b[0m             \u001b[0mself\u001b[0m\u001b[0;34m.\u001b[0m\u001b[0m_parent_header\u001b[0m\u001b[0;34m,\u001b[0m\u001b[0;34m\u001b[0m\u001b[0;34m\u001b[0m\u001b[0m\n\u001b[0;32m--> 704\u001b[0;31m             \u001b[0mpassword\u001b[0m\u001b[0;34m=\u001b[0m\u001b[0;32mFalse\u001b[0m\u001b[0;34m,\u001b[0m\u001b[0;34m\u001b[0m\u001b[0;34m\u001b[0m\u001b[0m\n\u001b[0m\u001b[1;32m    705\u001b[0m         )\n\u001b[1;32m    706\u001b[0m \u001b[0;34m\u001b[0m\u001b[0m\n",
            "\u001b[0;32m/usr/local/lib/python3.7/dist-packages/ipykernel/kernelbase.py\u001b[0m in \u001b[0;36m_input_request\u001b[0;34m(self, prompt, ident, parent, password)\u001b[0m\n\u001b[1;32m    732\u001b[0m             \u001b[0;32mexcept\u001b[0m \u001b[0mKeyboardInterrupt\u001b[0m\u001b[0;34m:\u001b[0m\u001b[0;34m\u001b[0m\u001b[0;34m\u001b[0m\u001b[0m\n\u001b[1;32m    733\u001b[0m                 \u001b[0;31m# re-raise KeyboardInterrupt, to truncate traceback\u001b[0m\u001b[0;34m\u001b[0m\u001b[0;34m\u001b[0m\u001b[0;34m\u001b[0m\u001b[0m\n\u001b[0;32m--> 734\u001b[0;31m                 \u001b[0;32mraise\u001b[0m \u001b[0mKeyboardInterrupt\u001b[0m\u001b[0;34m\u001b[0m\u001b[0;34m\u001b[0m\u001b[0m\n\u001b[0m\u001b[1;32m    735\u001b[0m             \u001b[0;32melse\u001b[0m\u001b[0;34m:\u001b[0m\u001b[0;34m\u001b[0m\u001b[0;34m\u001b[0m\u001b[0m\n\u001b[1;32m    736\u001b[0m                 \u001b[0;32mbreak\u001b[0m\u001b[0;34m\u001b[0m\u001b[0;34m\u001b[0m\u001b[0m\n",
            "\u001b[0;31mKeyboardInterrupt\u001b[0m: "
          ]
        }
      ]
    },
    {
      "cell_type": "code",
      "source": [
        "# Q22.\n",
        "#BINARY SEARCH\n",
        "pos = -1\n",
        "\n",
        "def search(list ,n):\n",
        "    l = 0\n",
        "    u = len(list)-1\n",
        "    \n",
        "    while l <= u:\n",
        "        mid = (l+u)//2      #// give sthe integer divison\n",
        "\n",
        "        if list[mid] == n:\n",
        "            globals()['pos'] = mid\n",
        "            return True \n",
        "        else :\n",
        "            if list[mid] < n:\n",
        "                l = mid+1\n",
        "            else :\n",
        "                u = mid-1\n",
        "    return False\n",
        "\n",
        "list=[5,8,4,6,7,9]\n",
        "n=int(input(\"Enter any number: \"))\n",
        "\n",
        "if search(list,n):\n",
        "    print(\"Found at \",pos+1)\n",
        "else:\n",
        "    print(\"Not Found\")\n",
        "                                "
      ],
      "metadata": {
        "colab": {
          "base_uri": "https://localhost:8080/"
        },
        "id": "Y-hkHwWrK5B_",
        "outputId": "1e962d4e-989a-4a15-9327-9a711da0c12c"
      },
      "execution_count": 64,
      "outputs": [
        {
          "output_type": "stream",
          "name": "stdout",
          "text": [
            "Enter any number: 7\n",
            "Found at  5\n"
          ]
        }
      ]
    },
    {
      "cell_type": "code",
      "source": [
        "# LINEAR SEARCH\n",
        "def search(list , n):\n",
        "    \n",
        "    for i in range (0,len(list)):\n",
        "        if list[i] == n:\n",
        "           globals()['pos'] = list.index(n)\n",
        "           return True\n",
        "        \n",
        "    return False\n",
        "\n",
        "list=[5,8,4,6,7,9]\n",
        "n=int(input(\"Enter any number: \"))\n",
        "\n",
        "if search(list , n):\n",
        "    print(\"Found at \",pos+1)\n",
        "else:\n",
        "    print(\"Not Found\")\n",
        "    "
      ],
      "metadata": {
        "colab": {
          "base_uri": "https://localhost:8080/"
        },
        "id": "RH4wUVD2LcBd",
        "outputId": "86448063-9c5e-489f-ca5c-8bea481eca1c"
      },
      "execution_count": 65,
      "outputs": [
        {
          "output_type": "stream",
          "name": "stdout",
          "text": [
            "Enter any number: 6\n",
            "Found at  4\n"
          ]
        }
      ]
    },
    {
      "cell_type": "code",
      "source": [
        "# Q23.\n",
        "#Bubble sort\n",
        "n = int(input(\"How many elements you want in your list: \"))\n",
        "a = []\n",
        "for i in range(n):\n",
        "    value = int(input(\"Enter number: \"))\n",
        "    a.append(value)\n",
        "print(a)\n",
        "\n",
        "for i in range(n):\n",
        "    for j in range(0, n-i-1):\n",
        "        if a[j] > a[j+1]:\n",
        "            t=a[j]\n",
        "            a[j]=a[j+1]\n",
        "            a[j+1]=t\n",
        "print(\"Sorted list is: \")\n",
        "print(a)"
      ],
      "metadata": {
        "colab": {
          "base_uri": "https://localhost:8080/"
        },
        "id": "fucrvQg_Ljpx",
        "outputId": "d42a901e-ed6e-4324-dd81-06fb94651ee3"
      },
      "execution_count": 66,
      "outputs": [
        {
          "output_type": "stream",
          "name": "stdout",
          "text": [
            "How many elements you want in your list: 5\n",
            "Enter number: 23\n",
            "Enter number: 45\n",
            "Enter number: 62\n",
            "Enter number: 77\n",
            "Enter number: 48\n",
            "[23, 45, 62, 77, 48]\n",
            "Sorted list is: \n",
            "[23, 45, 48, 62, 77]\n"
          ]
        }
      ]
    },
    {
      "cell_type": "code",
      "source": [
        "#Insertion sort\n",
        "n = int(input(\"How many elements you want in your list: \"))\n",
        "a = []\n",
        "for i in range(n):\n",
        "    value = int(input(\"Enter number: \"))\n",
        "    a.append(value)\n",
        "\n",
        "for i in range(1,n):\n",
        "    t =a[i]\n",
        "    j = i-1\n",
        "    while j>=0 and t<a[j]:\n",
        "        a[j+1]=a[j]\n",
        "        j=j-1\n",
        "    a[j+1]=t\n",
        "print(\"Sorted Arrray is: \")\n",
        "print(a)"
      ],
      "metadata": {
        "colab": {
          "base_uri": "https://localhost:8080/"
        },
        "id": "as_TEcuLLxdk",
        "outputId": "7fca63bf-3213-4a0a-b060-3dce455a2096"
      },
      "execution_count": 67,
      "outputs": [
        {
          "output_type": "stream",
          "name": "stdout",
          "text": [
            "How many elements you want in your list: 5\n",
            "Enter number: 23\n",
            "Enter number: 45\n",
            "Enter number: 66\n",
            "Enter number: 78\n",
            "Enter number: 90\n",
            "Sorted Arrray is: \n",
            "[23, 45, 66, 78, 90]\n"
          ]
        }
      ]
    }
  ]
}